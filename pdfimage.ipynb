{
 "cells": [
  {
   "cell_type": "code",
   "execution_count": null,
   "metadata": {},
   "outputs": [],
   "source": [
    "import pytesseract\n",
    "from PIL import Image\n",
    "import cv2\n",
    "import numpy as np\n",
    "from pdf2image import convert_from_path"
   ]
  },
  {
   "cell_type": "code",
   "execution_count": null,
   "metadata": {},
   "outputs": [],
   "source": [
    "# Convert PDF to a list of images\n",
    "images = convert_from_path('testreport.pdf')\n",
    "\n",
    "# Create a directory to store the images if it doesn't exist\n",
    "output_dir = 'extracted_images'\n",
    "os.makedirs(output_dir, exist_ok=True)\n",
    "\n",
    "# Iterate through the images and save them to disk\n",
    "for i, image in enumerate(images):\n",
    "    # Define the output file path\n",
    "    output_file = os.path.join(output_dir, f'image_{i + 1}.png')\n",
    "\n",
    "    # Save the image as a PNG file\n",
    "    image.save(output_file, 'PNG')"
   ]
  },
  {
   "cell_type": "code",
   "execution_count": null,
   "metadata": {},
   "outputs": [],
   "source": [
    "print(images)"
   ]
  },
  {
   "cell_type": "code",
   "execution_count": null,
   "metadata": {},
   "outputs": [],
   "source": [
    "extracted_text = \"\"  \n",
    "\n",
    "for image in images:\n",
    "    # Convert image to grayscale\n",
    "    gray_image = cv2.cvtColor(np.array(image), cv2.COLOR_BGR2GRAY)\n",
    "\n",
    "    # Apply thresholding, denoising, etc., if necessary\n",
    "    # processed_image = cv2.threshold(gray_image, ...)\n",
    "\n",
    "    # Perform OCR\n",
    "    text = pytesseract.image_to_string(gray_image)\n",
    "    extracted_text += text + \"\\n\""
   ]
  }
 ],
 "metadata": {
  "kernelspec": {
   "display_name": ".pt2",
   "language": "python",
   "name": "python3"
  },
  "language_info": {
   "codemirror_mode": {
    "name": "ipython",
    "version": 3
   },
   "file_extension": ".py",
   "mimetype": "text/x-python",
   "name": "python",
   "nbconvert_exporter": "python",
   "pygments_lexer": "ipython3",
   "version": "3.11.6"
  }
 },
 "nbformat": 4,
 "nbformat_minor": 2
}
