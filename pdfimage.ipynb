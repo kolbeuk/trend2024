{
 "cells": [
  {
   "cell_type": "code",
   "execution_count": 1,
   "metadata": {},
   "outputs": [],
   "source": [
    "import pytesseract\n",
    "from PIL import Image\n",
    "import cv2\n",
    "import numpy as np\n",
    "from pdf2image import convert_from_path"
   ]
  },
  {
   "cell_type": "code",
   "execution_count": 2,
   "metadata": {},
   "outputs": [
    {
     "name": "stdout",
     "output_type": "stream",
     "text": [
      "/Users/davidkolb/Documents/Code/trend2024\n",
      "Saved image 1 to extracted_images/image_1.png\n",
      "Saved image 2 to extracted_images/image_2.png\n",
      "Saved image 3 to extracted_images/image_3.png\n",
      "Saved image 4 to extracted_images/image_4.png\n",
      "Saved image 5 to extracted_images/image_5.png\n",
      "Saved image 6 to extracted_images/image_6.png\n",
      "Saved image 7 to extracted_images/image_7.png\n",
      "Saved image 8 to extracted_images/image_8.png\n",
      "Saved image 9 to extracted_images/image_9.png\n",
      "Saved image 10 to extracted_images/image_10.png\n",
      "Saved image 11 to extracted_images/image_11.png\n",
      "Saved image 12 to extracted_images/image_12.png\n",
      "Saved image 13 to extracted_images/image_13.png\n",
      "Saved image 14 to extracted_images/image_14.png\n",
      "Saved image 15 to extracted_images/image_15.png\n",
      "Saved image 16 to extracted_images/image_16.png\n",
      "Saved image 17 to extracted_images/image_17.png\n",
      "Saved image 18 to extracted_images/image_18.png\n",
      "Saved image 19 to extracted_images/image_19.png\n",
      "Saved image 20 to extracted_images/image_20.png\n",
      "Saved image 21 to extracted_images/image_21.png\n",
      "Saved image 22 to extracted_images/image_22.png\n",
      "Saved image 23 to extracted_images/image_23.png\n",
      "Saved image 24 to extracted_images/image_24.png\n",
      "Saved image 25 to extracted_images/image_25.png\n",
      "Saved image 26 to extracted_images/image_26.png\n",
      "Saved image 27 to extracted_images/image_27.png\n",
      "Saved image 28 to extracted_images/image_28.png\n",
      "Saved image 29 to extracted_images/image_29.png\n",
      "Saved image 30 to extracted_images/image_30.png\n",
      "Saved image 31 to extracted_images/image_31.png\n",
      "Saved image 32 to extracted_images/image_32.png\n",
      "Saved image 33 to extracted_images/image_33.png\n",
      "Saved image 34 to extracted_images/image_34.png\n",
      "Saved image 35 to extracted_images/image_35.png\n",
      "Saved image 36 to extracted_images/image_36.png\n",
      "Saved image 37 to extracted_images/image_37.png\n",
      "Saved image 38 to extracted_images/image_38.png\n",
      "Saved image 39 to extracted_images/image_39.png\n",
      "Saved image 40 to extracted_images/image_40.png\n",
      "Saved image 41 to extracted_images/image_41.png\n",
      "Saved image 42 to extracted_images/image_42.png\n",
      "Saved image 43 to extracted_images/image_43.png\n",
      "Saved image 44 to extracted_images/image_44.png\n",
      "Saved image 45 to extracted_images/image_45.png\n",
      "Saved image 46 to extracted_images/image_46.png\n",
      "Saved image 47 to extracted_images/image_47.png\n",
      "Saved image 48 to extracted_images/image_48.png\n",
      "Saved image 49 to extracted_images/image_49.png\n",
      "Saved image 50 to extracted_images/image_50.png\n",
      "Saved image 51 to extracted_images/image_51.png\n",
      "Saved image 52 to extracted_images/image_52.png\n",
      "Saved image 53 to extracted_images/image_53.png\n",
      "Saved image 54 to extracted_images/image_54.png\n",
      "Saved image 55 to extracted_images/image_55.png\n",
      "Saved image 56 to extracted_images/image_56.png\n",
      "Saved image 57 to extracted_images/image_57.png\n",
      "Saved image 58 to extracted_images/image_58.png\n",
      "Saved image 59 to extracted_images/image_59.png\n",
      "Saved image 60 to extracted_images/image_60.png\n",
      "Saved image 61 to extracted_images/image_61.png\n",
      "Saved image 62 to extracted_images/image_62.png\n",
      "Saved image 63 to extracted_images/image_63.png\n",
      "Saved image 64 to extracted_images/image_64.png\n",
      "Saved image 65 to extracted_images/image_65.png\n",
      "Saved image 66 to extracted_images/image_66.png\n",
      "Saved image 67 to extracted_images/image_67.png\n",
      "Saved image 68 to extracted_images/image_68.png\n",
      "Saved image 69 to extracted_images/image_69.png\n",
      "Saved image 70 to extracted_images/image_70.png\n",
      "Saved image 71 to extracted_images/image_71.png\n",
      "Saved image 72 to extracted_images/image_72.png\n",
      "Saved image 73 to extracted_images/image_73.png\n",
      "Saved image 74 to extracted_images/image_74.png\n"
     ]
    }
   ],
   "source": [
    "# Convert PDF to a list of images\n",
    "images = convert_from_path('testreport.pdf')\n",
    "\n",
    "# Create a directory to store the images if it doesn't exist\n",
    "output_dir = 'extracted_images'\n",
    "os.makedirs(output_dir, exist_ok=True)\n",
    "\n",
    "# Iterate through the images and save them to disk\n",
    "for i, image in enumerate(images):\n",
    "    # Define the output file path\n",
    "    output_file = os.path.join(output_dir, f'image_{i + 1}.png')\n",
    "\n",
    "    # Save the image as a PNG file\n",
    "    image.save(output_file, 'PNG')"
   ]
  },
  {
   "cell_type": "code",
   "execution_count": null,
   "metadata": {},
   "outputs": [],
   "source": [
    "print(images)"
   ]
  },
  {
   "cell_type": "code",
   "execution_count": null,
   "metadata": {},
   "outputs": [],
   "source": [
    "extracted_text = \"\"  \n",
    "\n",
    "for image in images:\n",
    "    # Convert image to grayscale\n",
    "    gray_image = cv2.cvtColor(np.array(image), cv2.COLOR_BGR2GRAY)\n",
    "\n",
    "    # Apply thresholding, denoising, etc., if necessary\n",
    "    # processed_image = cv2.threshold(gray_image, ...)\n",
    "\n",
    "    # Perform OCR\n",
    "    text = pytesseract.image_to_string(gray_image)\n",
    "    extracted_text += text + \"\\n\""
   ]
  }
 ],
 "metadata": {
  "kernelspec": {
   "display_name": ".pt2",
   "language": "python",
   "name": "python3"
  },
  "language_info": {
   "codemirror_mode": {
    "name": "ipython",
    "version": 3
   },
   "file_extension": ".py",
   "mimetype": "text/x-python",
   "name": "python",
   "nbconvert_exporter": "python",
   "pygments_lexer": "ipython3",
   "version": "3.11.6"
  }
 },
 "nbformat": 4,
 "nbformat_minor": 2
}
