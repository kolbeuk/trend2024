{
 "cells": [
  {
   "cell_type": "code",
   "execution_count": 3,
   "metadata": {},
   "outputs": [
    {
     "name": "stdout",
     "output_type": "stream",
     "text": [
      "Collecting pytesseract\n",
      "  Downloading pytesseract-0.3.10-py3-none-any.whl (14 kB)\n",
      "Requirement already satisfied: packaging>=21.3 in /Users/davidkolb/Library/Python/3.11/lib/python/site-packages (from pytesseract) (23.2)\n",
      "Requirement already satisfied: Pillow>=8.0.0 in /Library/Frameworks/Python.framework/Versions/3.11/lib/python3.11/site-packages (from pytesseract) (10.1.0)\n",
      "Installing collected packages: pytesseract\n",
      "\u001b[33m  WARNING: The script pytesseract is installed in '/Library/Frameworks/Python.framework/Versions/3.11/bin' which is not on PATH.\n",
      "  Consider adding this directory to PATH or, if you prefer to suppress this warning, use --no-warn-script-location.\u001b[0m\u001b[33m\n",
      "\u001b[0mSuccessfully installed pytesseract-0.3.10\n",
      "\n",
      "\u001b[1m[\u001b[0m\u001b[34;49mnotice\u001b[0m\u001b[1;39;49m]\u001b[0m\u001b[39;49m A new release of pip is available: \u001b[0m\u001b[31;49m23.2.1\u001b[0m\u001b[39;49m -> \u001b[0m\u001b[32;49m23.3.2\u001b[0m\n",
      "\u001b[1m[\u001b[0m\u001b[34;49mnotice\u001b[0m\u001b[1;39;49m]\u001b[0m\u001b[39;49m To update, run: \u001b[0m\u001b[32;49mpython3 -m pip install --upgrade pip\u001b[0m\n",
      "Note: you may need to restart the kernel to use updated packages.\n"
     ]
    }
   ],
   "source": [
    "%pip install pytesseract"
   ]
  },
  {
   "cell_type": "code",
   "execution_count": 4,
   "metadata": {},
   "outputs": [],
   "source": [
    "import pytesseract\n",
    "import concurrent.futures\n",
    "import os\n",
    "import re"
   ]
  },
  {
   "cell_type": "code",
   "execution_count": 5,
   "metadata": {},
   "outputs": [],
   "source": [
    "# Function to count tokens in a text\n",
    "def count_tokens(text):\n",
    "    try:\n",
    "        # Split text into tokens based on spaces and punctuation\n",
    "        tokens = re.findall(r'\\b\\w+\\b', text)\n",
    "        return len(tokens)\n",
    "    except Exception as e:\n",
    "        print(f\"An error occurred while counting tokens: {str(e)}\")\n",
    "        return 0  # Return 0 tokens in case of an error"
   ]
  },
  {
   "cell_type": "code",
   "execution_count": 6,
   "metadata": {},
   "outputs": [],
   "source": [
    "# Function to process text files\n",
    "def process_text_file(text_file):\n",
    "\n",
    "    # Read the text from the file\n",
    "    with open(text_file, 'r', encoding='utf-8') as file:\n",
    "        text = file.read()\n",
    "\n",
    "    # Count tokens in the text\n",
    "    num_tokens = count_tokens(text)\n",
    "    \n",
    "    # Print the file name and number of tokens\n",
    "    print(f'File: {text_file}, Number of Tokens: {num_tokens}')\n",
    "\n",
    "    return num_tokens"
   ]
  },
  {
   "cell_type": "code",
   "execution_count": 8,
   "metadata": {},
   "outputs": [
    {
     "name": "stdout",
     "output_type": "stream",
     "text": [
      "Total Tokens Across All Text Files: 0\n"
     ]
    }
   ],
   "source": [
    "def main():\n",
    "    # Directory containing the saved text files (same directory as images)\n",
    "    text_dir = '/Users/davidkolb/Documents/Code/kolbeuk-data/data_analysis/trends2024/'\n",
    "\n",
    "    # List of text files with '.txt' extension\n",
    "    text_files = [os.path.join(text_dir, text_file) for text_file in os.listdir(text_dir) if text_file.endswith('.txt')]\n",
    "\n",
    "    # Number of maximum workers\n",
    "    max_workers = 10\n",
    "\n",
    "    # Create a ThreadPoolExecutor with the specified maximum workers\n",
    "    with concurrent.futures.ThreadPoolExecutor(max_workers=max_workers) as executor:\n",
    "        # Submit the text file processing tasks in parallel and get the token counts\n",
    "        token_counts = list(executor.map(process_text_file, text_files))\n",
    "\n",
    "    # Calculate the total tokens\n",
    "    total_tokens = sum(token_counts)\n",
    "    print(f'Total Tokens Across All Text Files: {total_tokens}')\n",
    "\n",
    "\n",
    "if __name__ == \"__main__\":\n",
    "    main()"
   ]
  }
 ],
 "metadata": {
  "kernelspec": {
   "display_name": "Python 3",
   "language": "python",
   "name": "python3"
  },
  "language_info": {
   "codemirror_mode": {
    "name": "ipython",
    "version": 3
   },
   "file_extension": ".py",
   "mimetype": "text/x-python",
   "name": "python",
   "nbconvert_exporter": "python",
   "pygments_lexer": "ipython3",
   "version": "3.11.6"
  }
 },
 "nbformat": 4,
 "nbformat_minor": 2
}
