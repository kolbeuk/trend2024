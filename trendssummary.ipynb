{
 "cells": [
  {
   "cell_type": "code",
   "execution_count": 13,
   "metadata": {},
   "outputs": [],
   "source": [
    "import pytesseract\n",
    "import concurrent.futures\n",
    "import os\n",
    "import re\n",
    "import sys\n",
    "import json\n",
    "import requests"
   ]
  },
  {
   "cell_type": "code",
   "execution_count": 14,
   "metadata": {},
   "outputs": [],
   "source": [
    "def generate(prompt):\n",
    "    llmmodel = 'llama2'\n",
    "    try:\n",
    "        r = requests.post('http://localhost:11434/api/generate',\n",
    "                          json={\n",
    "                              'model': llmmodel,\n",
    "                              'prompt': prompt,\n",
    "                          },\n",
    "                          stream=True)\n",
    "        r.raise_for_status()\n",
    "        response_text = str(r.text)\n",
    "    except requests.exceptions.RequestException as e:\n",
    "        print(f\"Error during API request: {e}\")\n",
    "\n",
    "    full_response = ''\n",
    " \n",
    "    for line in r.iter_lines():\n",
    "        body = json.loads(line)\n",
    "        response_part = body.get('response', '')\n",
    "        full_response += response_part\n",
    "\n",
    "    return full_response"
   ]
  },
  {
   "cell_type": "code",
   "execution_count": 15,
   "metadata": {},
   "outputs": [],
   "source": [
    "# Function to process a text file (perform OCR)\n",
    "def process_text_file(text_file_path):\n",
    "    try:\n",
    "        with open(text_file_path, 'r', encoding='utf-8') as file:\n",
    "            text_content = file.read()\n",
    "        \n",
    "        # Define a prompt based on the file contents or any other logic\n",
    "        prompt = \"You are a succint researcher, your job is to objectively summarize the key points from this page in 80 words.\"\n",
    "        \n",
    "        # Call the generate function with the defined prompt  \n",
    "        response = generate(prompt + \" \" + text_content)\n",
    "        summary = \"Source : \" + text_file_path + \"\\n\" + response\n",
    "\n",
    "\n",
    "        # write the summary to disk \n",
    "        filename = os.path.basename(text_file_path)\n",
    "        new_file_path = os.path.join(os.path.dirname(text_file_path), \"summary_\" + filename)\n",
    "\n",
    "        with open(new_file_path, 'w') as summary_file:\n",
    "            summary_file.write(summary)\n",
    "            \n",
    "    except Exception as e:\n",
    "        print(f\"Error processing text file: {text_file_path}, Error: {str(e)}\")"
   ]
  },
  {
   "cell_type": "code",
   "execution_count": 16,
   "metadata": {},
   "outputs": [],
   "source": [
    "def main():\n",
    "    # Specify the root directory to start processing\n",
    "    root_directory = 'trends2024'\n",
    "\n",
    "    # Set the maximum number of workers (e.g., 4)\n",
    "    max_workers = 4\n",
    "\n",
    "    try:\n",
    "        # List all files in the root directory and its subdirectories\n",
    "        for root, _, files in os.walk(root_directory):\n",
    "            for file in files:\n",
    "                if file.endswith('.txt'):\n",
    "                    # If it's a text file, process it using a thread\n",
    "                    file_path = os.path.join(root, file)\n",
    "                    with concurrent.futures.ThreadPoolExecutor(max_workers=max_workers) as executor:\n",
    "                        executor.submit(process_text_file, file_path)\n",
    "    except Exception as e:\n",
    "        print(f\"Error processing directory: {root_directory}, Error: {str(e)}\")\n",
    "\n",
    "if __name__ == \"__main__\":\n",
    "    main()"
   ]
  }
 ],
 "metadata": {
  "kernelspec": {
   "display_name": "Python 3",
   "language": "python",
   "name": "python3"
  },
  "language_info": {
   "codemirror_mode": {
    "name": "ipython",
    "version": 3
   },
   "file_extension": ".py",
   "mimetype": "text/x-python",
   "name": "python",
   "nbconvert_exporter": "python",
   "pygments_lexer": "ipython3",
   "version": "3.11.6"
  }
 },
 "nbformat": 4,
 "nbformat_minor": 2
}
