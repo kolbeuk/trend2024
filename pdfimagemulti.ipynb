{
 "cells": [
  {
   "cell_type": "code",
   "execution_count": 5,
   "metadata": {},
   "outputs": [
    {
     "name": "stdout",
     "output_type": "stream",
     "text": [
      "Collecting pdf2image\n",
      "  Downloading pdf2image-1.16.3-py3-none-any.whl (11 kB)\n",
      "Requirement already satisfied: pillow in /Library/Frameworks/Python.framework/Versions/3.11/lib/python3.11/site-packages (from pdf2image) (10.1.0)\n",
      "Installing collected packages: pdf2image\n",
      "Successfully installed pdf2image-1.16.3\n",
      "\n",
      "\u001b[1m[\u001b[0m\u001b[34;49mnotice\u001b[0m\u001b[1;39;49m]\u001b[0m\u001b[39;49m A new release of pip is available: \u001b[0m\u001b[31;49m23.2.1\u001b[0m\u001b[39;49m -> \u001b[0m\u001b[32;49m23.3.2\u001b[0m\n",
      "\u001b[1m[\u001b[0m\u001b[34;49mnotice\u001b[0m\u001b[1;39;49m]\u001b[0m\u001b[39;49m To update, run: \u001b[0m\u001b[32;49mpython3 -m pip install --upgrade pip\u001b[0m\n",
      "Note: you may need to restart the kernel to use updated packages.\n"
     ]
    }
   ],
   "source": [
    "%pip install pdf2image"
   ]
  },
  {
   "cell_type": "code",
   "execution_count": 10,
   "metadata": {},
   "outputs": [],
   "source": [
    "import pytesseract\n",
    "from PIL import Image\n",
    "import os\n",
    "import re\n",
    "import cv2\n",
    "from pdf2image import convert_from_path\n",
    "import concurrent.futures"
   ]
  },
  {
   "cell_type": "code",
   "execution_count": 11,
   "metadata": {},
   "outputs": [],
   "source": [
    "# Function to convert PDF files to images and perform OCR\n",
    "def convert_pdf(pdf_file):\n",
    "    try:\n",
    "        # Create a directory for each PDF file\n",
    "        pdf_name = os.path.splitext(pdf_file)[0]\n",
    "        pdf_output_dir = os.path.join(pdf_directory, pdf_name)\n",
    "        os.makedirs(pdf_output_dir, exist_ok=True)\n",
    "\n",
    "        # Convert PDF to a list of images\n",
    "        images = convert_from_path(os.path.join(pdf_directory, pdf_file))\n",
    "\n",
    "        for i, image in enumerate(images):\n",
    "            # Perform OCR on the image in a separate thread\n",
    "            process_image_to_text(image, page_number=i+1, pdf_output_dir=pdf_output_dir)\n",
    "\n",
    "    except Exception as e:\n",
    "        print(f\"Convert_pdf an error occurred: {str(e)}\")"
   ]
  },
  {
   "cell_type": "code",
   "execution_count": 13,
   "metadata": {},
   "outputs": [],
   "source": [
    "# Function to process an image and save text\n",
    "def process_image_to_text(image_file, page_number, pdf_output_dir):\n",
    "    print(image_file.filename)\n",
    "    try:\n",
    "        # Perform OCR on the image\n",
    "        extracted_text = pytesseract.image_to_string(image_file)\n",
    "\n",
    "        # Define the output text file path using the image file name\n",
    "        text_file = os.path.join(pdf_output_dir, f\"page_{page_number}.txt\")\n",
    "        print(\"extracted text from \" + pdf_output_dir + \" to \" + text_file)\n",
    "        \n",
    "        # Save the extracted text to a text file in the same directory as the image\n",
    "        with open(text_file, 'w', encoding='utf-8') as file:\n",
    "            file.write(extracted_text)\n",
    "            \n",
    "    except Exception as e:\n",
    "        print(f\"process_image_to_text an error occurred: {str(e)}\")"
   ]
  },
  {
   "cell_type": "code",
   "execution_count": 14,
   "metadata": {},
   "outputs": [
    {
     "name": "stdout",
     "output_type": "stream",
     "text": [
      "\n",
      "extracted text from /Users/davidkolb/Documents/Code/kolbeuk-data/data_analysis/trends2024/KORN FERRY_TA-Trends-Report-2024 to /Users/davidkolb/Documents/Code/kolbeuk-data/data_analysis/trends2024/KORN FERRY_TA-Trends-Report-2024/page_1.txt\n",
      "\n",
      "extracted text from /Users/davidkolb/Documents/Code/kolbeuk-data/data_analysis/trends2024/KORN FERRY_TA-Trends-Report-2024 to /Users/davidkolb/Documents/Code/kolbeuk-data/data_analysis/trends2024/KORN FERRY_TA-Trends-Report-2024/page_2.txt\n",
      "\n",
      "extracted text from /Users/davidkolb/Documents/Code/kolbeuk-data/data_analysis/trends2024/KORN FERRY_TA-Trends-Report-2024 to /Users/davidkolb/Documents/Code/kolbeuk-data/data_analysis/trends2024/KORN FERRY_TA-Trends-Report-2024/page_3.txt\n",
      "\n",
      "extracted text from /Users/davidkolb/Documents/Code/kolbeuk-data/data_analysis/trends2024/KORN FERRY_TA-Trends-Report-2024 to /Users/davidkolb/Documents/Code/kolbeuk-data/data_analysis/trends2024/KORN FERRY_TA-Trends-Report-2024/page_4.txt\n",
      "\n",
      "extracted text from /Users/davidkolb/Documents/Code/kolbeuk-data/data_analysis/trends2024/KORN FERRY_TA-Trends-Report-2024 to /Users/davidkolb/Documents/Code/kolbeuk-data/data_analysis/trends2024/KORN FERRY_TA-Trends-Report-2024/page_5.txt\n",
      "\n",
      "extracted text from /Users/davidkolb/Documents/Code/kolbeuk-data/data_analysis/trends2024/KORN FERRY_TA-Trends-Report-2024 to /Users/davidkolb/Documents/Code/kolbeuk-data/data_analysis/trends2024/KORN FERRY_TA-Trends-Report-2024/page_6.txt\n",
      "\n",
      "extracted text from /Users/davidkolb/Documents/Code/kolbeuk-data/data_analysis/trends2024/KORN FERRY_TA-Trends-Report-2024 to /Users/davidkolb/Documents/Code/kolbeuk-data/data_analysis/trends2024/KORN FERRY_TA-Trends-Report-2024/page_7.txt\n",
      "\n",
      "extracted text from /Users/davidkolb/Documents/Code/kolbeuk-data/data_analysis/trends2024/KORN FERRY_TA-Trends-Report-2024 to /Users/davidkolb/Documents/Code/kolbeuk-data/data_analysis/trends2024/KORN FERRY_TA-Trends-Report-2024/page_8.txt\n",
      "\n",
      "extracted text from /Users/davidkolb/Documents/Code/kolbeuk-data/data_analysis/trends2024/KORN FERRY_TA-Trends-Report-2024 to /Users/davidkolb/Documents/Code/kolbeuk-data/data_analysis/trends2024/KORN FERRY_TA-Trends-Report-2024/page_9.txt\n",
      "\n",
      "extracted text from /Users/davidkolb/Documents/Code/kolbeuk-data/data_analysis/trends2024/KORN FERRY_TA-Trends-Report-2024 to /Users/davidkolb/Documents/Code/kolbeuk-data/data_analysis/trends2024/KORN FERRY_TA-Trends-Report-2024/page_10.txt\n",
      "\n",
      "extracted text from /Users/davidkolb/Documents/Code/kolbeuk-data/data_analysis/trends2024/KORN FERRY_TA-Trends-Report-2024 to /Users/davidkolb/Documents/Code/kolbeuk-data/data_analysis/trends2024/KORN FERRY_TA-Trends-Report-2024/page_11.txt\n",
      "\n",
      "extracted text from /Users/davidkolb/Documents/Code/kolbeuk-data/data_analysis/trends2024/KORN FERRY_TA-Trends-Report-2024 to /Users/davidkolb/Documents/Code/kolbeuk-data/data_analysis/trends2024/KORN FERRY_TA-Trends-Report-2024/page_12.txt\n",
      "\n",
      "extracted text from /Users/davidkolb/Documents/Code/kolbeuk-data/data_analysis/trends2024/KORN FERRY_TA-Trends-Report-2024 to /Users/davidkolb/Documents/Code/kolbeuk-data/data_analysis/trends2024/KORN FERRY_TA-Trends-Report-2024/page_13.txt\n"
     ]
    }
   ],
   "source": [
    "# Usage example:\n",
    "if __name__ == \"__main__\":\n",
    "    pdf_directory = '/Users/davidkolb/Documents/Code/kolbeuk-data/data_analysis/trends2024/'\n",
    "    pdf_files = [f for f in os.listdir(pdf_directory) if f.endswith('.pdf')]\n",
    "    \n",
    "    with concurrent.futures.ThreadPoolExecutor(max_workers=10) as executor:\n",
    "        executor.map(convert_pdf, pdf_files)"
   ]
  }
 ],
 "metadata": {
  "kernelspec": {
   "display_name": ".pt2",
   "language": "python",
   "name": "python3"
  },
  "language_info": {
   "codemirror_mode": {
    "name": "ipython",
    "version": 3
   },
   "file_extension": ".py",
   "mimetype": "text/x-python",
   "name": "python",
   "nbconvert_exporter": "python",
   "pygments_lexer": "ipython3",
   "version": "3.11.6"
  }
 },
 "nbformat": 4,
 "nbformat_minor": 2
}
